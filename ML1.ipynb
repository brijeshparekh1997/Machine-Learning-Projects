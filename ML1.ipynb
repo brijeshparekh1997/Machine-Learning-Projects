{
 "cells": [
  {
   "cell_type": "code",
   "execution_count": 58,
   "id": "a0b93e61",
   "metadata": {},
   "outputs": [],
   "source": [
    "#Load Libraries\n",
    "import numpy as np\n",
    "import pandas as pd\n",
    "import matplotlib.pyplot as plt\n",
    "%matplotlib inline\n",
    "import seaborn as sns"
   ]
  },
  {
   "cell_type": "code",
   "execution_count": 59,
   "id": "4a5e0f4b",
   "metadata": {},
   "outputs": [
    {
     "name": "stdout",
     "output_type": "stream",
     "text": [
      "<class 'pandas.core.frame.DataFrame'>\n",
      "RangeIndex: 440 entries, 0 to 439\n",
      "Data columns (total 8 columns):\n",
      " #   Column            Non-Null Count  Dtype\n",
      "---  ------            --------------  -----\n",
      " 0   Fresh             440 non-null    int64\n",
      " 1   Milk              440 non-null    int64\n",
      " 2   Grocery           440 non-null    int64\n",
      " 3   Frozen            440 non-null    int64\n",
      " 4   Detergents_Paper  440 non-null    int64\n",
      " 5   Delicassen        440 non-null    int64\n",
      " 6   Region            440 non-null    int64\n",
      " 7   Channel           440 non-null    int64\n",
      "dtypes: int64(8)\n",
      "memory usage: 27.6 KB\n"
     ]
    },
    {
     "data": {
      "text/html": [
       "<div>\n",
       "<style scoped>\n",
       "    .dataframe tbody tr th:only-of-type {\n",
       "        vertical-align: middle;\n",
       "    }\n",
       "\n",
       "    .dataframe tbody tr th {\n",
       "        vertical-align: top;\n",
       "    }\n",
       "\n",
       "    .dataframe thead th {\n",
       "        text-align: right;\n",
       "    }\n",
       "</style>\n",
       "<table border=\"1\" class=\"dataframe\">\n",
       "  <thead>\n",
       "    <tr style=\"text-align: right;\">\n",
       "      <th></th>\n",
       "      <th>Fresh</th>\n",
       "      <th>Milk</th>\n",
       "      <th>Grocery</th>\n",
       "      <th>Frozen</th>\n",
       "      <th>Detergents_Paper</th>\n",
       "      <th>Delicassen</th>\n",
       "      <th>Region</th>\n",
       "      <th>Channel</th>\n",
       "    </tr>\n",
       "  </thead>\n",
       "  <tbody>\n",
       "    <tr>\n",
       "      <th>0</th>\n",
       "      <td>12669</td>\n",
       "      <td>9656</td>\n",
       "      <td>7561</td>\n",
       "      <td>214</td>\n",
       "      <td>2674</td>\n",
       "      <td>1338</td>\n",
       "      <td>3</td>\n",
       "      <td>2</td>\n",
       "    </tr>\n",
       "    <tr>\n",
       "      <th>1</th>\n",
       "      <td>7057</td>\n",
       "      <td>9810</td>\n",
       "      <td>9568</td>\n",
       "      <td>1762</td>\n",
       "      <td>3293</td>\n",
       "      <td>1776</td>\n",
       "      <td>3</td>\n",
       "      <td>2</td>\n",
       "    </tr>\n",
       "    <tr>\n",
       "      <th>2</th>\n",
       "      <td>6353</td>\n",
       "      <td>8808</td>\n",
       "      <td>7684</td>\n",
       "      <td>2405</td>\n",
       "      <td>3516</td>\n",
       "      <td>7844</td>\n",
       "      <td>3</td>\n",
       "      <td>2</td>\n",
       "    </tr>\n",
       "    <tr>\n",
       "      <th>3</th>\n",
       "      <td>13265</td>\n",
       "      <td>1196</td>\n",
       "      <td>4221</td>\n",
       "      <td>6404</td>\n",
       "      <td>507</td>\n",
       "      <td>1788</td>\n",
       "      <td>3</td>\n",
       "      <td>1</td>\n",
       "    </tr>\n",
       "    <tr>\n",
       "      <th>4</th>\n",
       "      <td>22615</td>\n",
       "      <td>5410</td>\n",
       "      <td>7198</td>\n",
       "      <td>3915</td>\n",
       "      <td>1777</td>\n",
       "      <td>5185</td>\n",
       "      <td>3</td>\n",
       "      <td>2</td>\n",
       "    </tr>\n",
       "  </tbody>\n",
       "</table>\n",
       "</div>"
      ],
      "text/plain": [
       "   Fresh  Milk  Grocery  Frozen  Detergents_Paper  Delicassen  Region  Channel\n",
       "0  12669  9656     7561     214              2674        1338       3        2\n",
       "1   7057  9810     9568    1762              3293        1776       3        2\n",
       "2   6353  8808     7684    2405              3516        7844       3        2\n",
       "3  13265  1196     4221    6404               507        1788       3        1\n",
       "4  22615  5410     7198    3915              1777        5185       3        2"
      ]
     },
     "execution_count": 59,
     "metadata": {},
     "output_type": "execute_result"
    }
   ],
   "source": [
    "#Load Dataset\n",
    "df1=pd.read_csv(r'C:\\Users\\brije\\Downloads\\ChannelDataset.csv')\n",
    "df1.info()\n",
    "df1.head()"
   ]
  },
  {
   "cell_type": "code",
   "execution_count": 60,
   "id": "607d073a",
   "metadata": {},
   "outputs": [
    {
     "data": {
      "text/html": [
       "<div>\n",
       "<style scoped>\n",
       "    .dataframe tbody tr th:only-of-type {\n",
       "        vertical-align: middle;\n",
       "    }\n",
       "\n",
       "    .dataframe tbody tr th {\n",
       "        vertical-align: top;\n",
       "    }\n",
       "\n",
       "    .dataframe thead th {\n",
       "        text-align: right;\n",
       "    }\n",
       "</style>\n",
       "<table border=\"1\" class=\"dataframe\">\n",
       "  <thead>\n",
       "    <tr style=\"text-align: right;\">\n",
       "      <th></th>\n",
       "      <th>Fresh</th>\n",
       "      <th>Milk</th>\n",
       "      <th>Grocery</th>\n",
       "      <th>Frozen</th>\n",
       "      <th>Detergents_Paper</th>\n",
       "      <th>Delicassen</th>\n",
       "      <th>Region</th>\n",
       "    </tr>\n",
       "  </thead>\n",
       "  <tbody>\n",
       "    <tr>\n",
       "      <th>29</th>\n",
       "      <td>43088</td>\n",
       "      <td>2100</td>\n",
       "      <td>2609</td>\n",
       "      <td>1200</td>\n",
       "      <td>1107</td>\n",
       "      <td>823</td>\n",
       "      <td>3</td>\n",
       "    </tr>\n",
       "    <tr>\n",
       "      <th>39</th>\n",
       "      <td>56159</td>\n",
       "      <td>555</td>\n",
       "      <td>902</td>\n",
       "      <td>10002</td>\n",
       "      <td>212</td>\n",
       "      <td>2916</td>\n",
       "      <td>3</td>\n",
       "    </tr>\n",
       "    <tr>\n",
       "      <th>47</th>\n",
       "      <td>44466</td>\n",
       "      <td>54259</td>\n",
       "      <td>55571</td>\n",
       "      <td>7782</td>\n",
       "      <td>24171</td>\n",
       "      <td>6465</td>\n",
       "      <td>3</td>\n",
       "    </tr>\n",
       "    <tr>\n",
       "      <th>52</th>\n",
       "      <td>40721</td>\n",
       "      <td>3916</td>\n",
       "      <td>5876</td>\n",
       "      <td>532</td>\n",
       "      <td>2587</td>\n",
       "      <td>1278</td>\n",
       "      <td>3</td>\n",
       "    </tr>\n",
       "    <tr>\n",
       "      <th>87</th>\n",
       "      <td>43265</td>\n",
       "      <td>5025</td>\n",
       "      <td>8117</td>\n",
       "      <td>6312</td>\n",
       "      <td>1579</td>\n",
       "      <td>14351</td>\n",
       "      <td>3</td>\n",
       "    </tr>\n",
       "    <tr>\n",
       "      <th>...</th>\n",
       "      <td>...</td>\n",
       "      <td>...</td>\n",
       "      <td>...</td>\n",
       "      <td>...</td>\n",
       "      <td>...</td>\n",
       "      <td>...</td>\n",
       "      <td>...</td>\n",
       "    </tr>\n",
       "    <tr>\n",
       "      <th>202</th>\n",
       "      <td>25203</td>\n",
       "      <td>11487</td>\n",
       "      <td>9490</td>\n",
       "      <td>5065</td>\n",
       "      <td>284</td>\n",
       "      <td>6854</td>\n",
       "      <td>1</td>\n",
       "    </tr>\n",
       "    <tr>\n",
       "      <th>218</th>\n",
       "      <td>18</td>\n",
       "      <td>7504</td>\n",
       "      <td>15205</td>\n",
       "      <td>1285</td>\n",
       "      <td>4797</td>\n",
       "      <td>6372</td>\n",
       "      <td>1</td>\n",
       "    </tr>\n",
       "    <tr>\n",
       "      <th>372</th>\n",
       "      <td>3884</td>\n",
       "      <td>3801</td>\n",
       "      <td>1641</td>\n",
       "      <td>876</td>\n",
       "      <td>397</td>\n",
       "      <td>4829</td>\n",
       "      <td>3</td>\n",
       "    </tr>\n",
       "    <tr>\n",
       "      <th>409</th>\n",
       "      <td>8708</td>\n",
       "      <td>3634</td>\n",
       "      <td>6100</td>\n",
       "      <td>2349</td>\n",
       "      <td>2123</td>\n",
       "      <td>5137</td>\n",
       "      <td>3</td>\n",
       "    </tr>\n",
       "    <tr>\n",
       "      <th>411</th>\n",
       "      <td>2126</td>\n",
       "      <td>3289</td>\n",
       "      <td>3281</td>\n",
       "      <td>1535</td>\n",
       "      <td>235</td>\n",
       "      <td>4365</td>\n",
       "      <td>3</td>\n",
       "    </tr>\n",
       "  </tbody>\n",
       "</table>\n",
       "<p>108 rows × 7 columns</p>\n",
       "</div>"
      ],
      "text/plain": [
       "     Fresh   Milk  Grocery  Frozen  Detergents_Paper  Delicassen  Region\n",
       "29   43088   2100     2609    1200              1107         823       3\n",
       "39   56159    555      902   10002               212        2916       3\n",
       "47   44466  54259    55571    7782             24171        6465       3\n",
       "52   40721   3916     5876     532              2587        1278       3\n",
       "87   43265   5025     8117    6312              1579       14351       3\n",
       "..     ...    ...      ...     ...               ...         ...     ...\n",
       "202  25203  11487     9490    5065               284        6854       1\n",
       "218     18   7504    15205    1285              4797        6372       1\n",
       "372   3884   3801     1641     876               397        4829       3\n",
       "409   8708   3634     6100    2349              2123        5137       3\n",
       "411   2126   3289     3281    1535               235        4365       3\n",
       "\n",
       "[108 rows x 7 columns]"
      ]
     },
     "execution_count": 60,
     "metadata": {},
     "output_type": "execute_result"
    }
   ],
   "source": [
    "#Tukey Method\n",
    "\n",
    "# Import required libraries\n",
    "from collections import Counter\n",
    "\n",
    "# Outlier detection \n",
    "def detect_outliers(df,n,features):\n",
    "    \n",
    "    outlier_indices = []\n",
    "    \n",
    "    # iterate over features(columns)\n",
    "    for col in features:\n",
    "        # 1st quartile (25%)\n",
    "        Q1 = np.percentile(df[col], 25)\n",
    "        # 3rd quartile (75%)\n",
    "        Q3 = np.percentile(df[col],75)\n",
    "        # Interquartile range (IQR)\n",
    "        IQR = Q3 - Q1\n",
    "        \n",
    "        # outlier step\n",
    "        outlier_step = 1.5 * IQR\n",
    "        \n",
    "        # Determine a list of indices of outliers for feature col\n",
    "        outlier_list_col = df[(df[col] < Q1 - outlier_step) | (df[col] > Q3 + outlier_step )].index\n",
    "        \n",
    "        # append the found outlier indices for col to the list of outlier indices \n",
    "        outlier_indices.extend(outlier_list_col)\n",
    "        \n",
    "    # select observations containing more than 2 outliers\n",
    "    outlier_indices = Counter(outlier_indices)        \n",
    "    multiple_outliers = list( k for k, v in outlier_indices.items() if v > n )\n",
    "    \n",
    "    return multiple_outliers   \n",
    "\n",
    "# List of Outliers\n",
    "Outliers_to_drop = detect_outliers(df1.drop('Channel',axis=1),0,list(df1.drop('Channel',axis=1)))\n",
    "df1.drop('Channel',axis=1).loc[Outliers_to_drop]"
   ]
  },
  {
   "cell_type": "code",
   "execution_count": 61,
   "id": "975f22d6",
   "metadata": {},
   "outputs": [
    {
     "name": "stdout",
     "output_type": "stream",
     "text": [
      "<class 'pandas.core.frame.DataFrame'>\n",
      "RangeIndex: 332 entries, 0 to 331\n",
      "Data columns (total 8 columns):\n",
      " #   Column            Non-Null Count  Dtype\n",
      "---  ------            --------------  -----\n",
      " 0   Fresh             332 non-null    int64\n",
      " 1   Milk              332 non-null    int64\n",
      " 2   Grocery           332 non-null    int64\n",
      " 3   Frozen            332 non-null    int64\n",
      " 4   Detergents_Paper  332 non-null    int64\n",
      " 5   Delicassen        332 non-null    int64\n",
      " 6   Region            332 non-null    int64\n",
      " 7   Channel           332 non-null    int64\n",
      "dtypes: int64(8)\n",
      "memory usage: 20.9 KB\n"
     ]
    }
   ],
   "source": [
    "#Create New Dataset without Outliers\n",
    "dataset = df1.drop(df1.index[Outliers_to_drop]).reset_index(drop = True)\n",
    "dataset.info()"
   ]
  },
  {
   "cell_type": "code",
   "execution_count": 83,
   "id": "38ba0717",
   "metadata": {
    "scrolled": false
   },
   "outputs": [
    {
     "data": {
      "text/html": [
       "<div>\n",
       "<style scoped>\n",
       "    .dataframe tbody tr th:only-of-type {\n",
       "        vertical-align: middle;\n",
       "    }\n",
       "\n",
       "    .dataframe tbody tr th {\n",
       "        vertical-align: top;\n",
       "    }\n",
       "\n",
       "    .dataframe thead th {\n",
       "        text-align: right;\n",
       "    }\n",
       "</style>\n",
       "<table border=\"1\" class=\"dataframe\">\n",
       "  <thead>\n",
       "    <tr style=\"text-align: right;\">\n",
       "      <th></th>\n",
       "      <th>Fresh</th>\n",
       "      <th>Milk</th>\n",
       "      <th>Grocery</th>\n",
       "      <th>Frozen</th>\n",
       "      <th>Detergents_Paper</th>\n",
       "      <th>Delicassen</th>\n",
       "      <th>Region</th>\n",
       "      <th>Channel</th>\n",
       "    </tr>\n",
       "  </thead>\n",
       "  <tbody>\n",
       "    <tr>\n",
       "      <th>count</th>\n",
       "      <td>332.000000</td>\n",
       "      <td>332.000000</td>\n",
       "      <td>332.000000</td>\n",
       "      <td>332.000000</td>\n",
       "      <td>332.000000</td>\n",
       "      <td>332.000000</td>\n",
       "      <td>332.000000</td>\n",
       "      <td>332.000000</td>\n",
       "    </tr>\n",
       "    <tr>\n",
       "      <th>mean</th>\n",
       "      <td>9547.397590</td>\n",
       "      <td>4105.180723</td>\n",
       "      <td>5875.614458</td>\n",
       "      <td>1863.048193</td>\n",
       "      <td>1958.975904</td>\n",
       "      <td>1016.602410</td>\n",
       "      <td>2.539157</td>\n",
       "      <td>1.286145</td>\n",
       "    </tr>\n",
       "    <tr>\n",
       "      <th>std</th>\n",
       "      <td>8161.831206</td>\n",
       "      <td>3363.303146</td>\n",
       "      <td>5038.930756</td>\n",
       "      <td>1707.890373</td>\n",
       "      <td>2347.470292</td>\n",
       "      <td>824.356784</td>\n",
       "      <td>0.782148</td>\n",
       "      <td>0.452640</td>\n",
       "    </tr>\n",
       "    <tr>\n",
       "      <th>min</th>\n",
       "      <td>3.000000</td>\n",
       "      <td>55.000000</td>\n",
       "      <td>3.000000</td>\n",
       "      <td>25.000000</td>\n",
       "      <td>3.000000</td>\n",
       "      <td>3.000000</td>\n",
       "      <td>1.000000</td>\n",
       "      <td>1.000000</td>\n",
       "    </tr>\n",
       "    <tr>\n",
       "      <th>25%</th>\n",
       "      <td>2989.750000</td>\n",
       "      <td>1352.500000</td>\n",
       "      <td>2011.500000</td>\n",
       "      <td>582.000000</td>\n",
       "      <td>231.750000</td>\n",
       "      <td>360.750000</td>\n",
       "      <td>2.000000</td>\n",
       "      <td>1.000000</td>\n",
       "    </tr>\n",
       "    <tr>\n",
       "      <th>50%</th>\n",
       "      <td>7483.500000</td>\n",
       "      <td>3087.000000</td>\n",
       "      <td>3835.500000</td>\n",
       "      <td>1270.500000</td>\n",
       "      <td>715.500000</td>\n",
       "      <td>774.000000</td>\n",
       "      <td>3.000000</td>\n",
       "      <td>1.000000</td>\n",
       "    </tr>\n",
       "    <tr>\n",
       "      <th>75%</th>\n",
       "      <td>13987.250000</td>\n",
       "      <td>6251.750000</td>\n",
       "      <td>8928.500000</td>\n",
       "      <td>2587.500000</td>\n",
       "      <td>3461.250000</td>\n",
       "      <td>1456.000000</td>\n",
       "      <td>3.000000</td>\n",
       "      <td>2.000000</td>\n",
       "    </tr>\n",
       "    <tr>\n",
       "      <th>max</th>\n",
       "      <td>37036.000000</td>\n",
       "      <td>14982.000000</td>\n",
       "      <td>22272.000000</td>\n",
       "      <td>7683.000000</td>\n",
       "      <td>8969.000000</td>\n",
       "      <td>3637.000000</td>\n",
       "      <td>3.000000</td>\n",
       "      <td>2.000000</td>\n",
       "    </tr>\n",
       "  </tbody>\n",
       "</table>\n",
       "</div>"
      ],
      "text/plain": [
       "              Fresh          Milk       Grocery       Frozen  \\\n",
       "count    332.000000    332.000000    332.000000   332.000000   \n",
       "mean    9547.397590   4105.180723   5875.614458  1863.048193   \n",
       "std     8161.831206   3363.303146   5038.930756  1707.890373   \n",
       "min        3.000000     55.000000      3.000000    25.000000   \n",
       "25%     2989.750000   1352.500000   2011.500000   582.000000   \n",
       "50%     7483.500000   3087.000000   3835.500000  1270.500000   \n",
       "75%    13987.250000   6251.750000   8928.500000  2587.500000   \n",
       "max    37036.000000  14982.000000  22272.000000  7683.000000   \n",
       "\n",
       "       Detergents_Paper   Delicassen      Region     Channel  \n",
       "count        332.000000   332.000000  332.000000  332.000000  \n",
       "mean        1958.975904  1016.602410    2.539157    1.286145  \n",
       "std         2347.470292   824.356784    0.782148    0.452640  \n",
       "min            3.000000     3.000000    1.000000    1.000000  \n",
       "25%          231.750000   360.750000    2.000000    1.000000  \n",
       "50%          715.500000   774.000000    3.000000    1.000000  \n",
       "75%         3461.250000  1456.000000    3.000000    2.000000  \n",
       "max         8969.000000  3637.000000    3.000000    2.000000  "
      ]
     },
     "execution_count": 83,
     "metadata": {},
     "output_type": "execute_result"
    }
   ],
   "source": [
    "dataset.describe()\n"
   ]
  },
  {
   "cell_type": "code",
   "execution_count": 63,
   "id": "bb5625d2",
   "metadata": {},
   "outputs": [
    {
     "data": {
      "text/plain": [
       "<AxesSubplot:>"
      ]
     },
     "execution_count": 63,
     "metadata": {},
     "output_type": "execute_result"
    },
    {
     "data": {
      "image/png": "[encoded data removed]",
      "text/plain": [
       "<Figure size 720x360 with 2 Axes>"
      ]
     },
     "metadata": {
      "needs_background": "light"
     },
     "output_type": "display_data"
    }
   ],
   "source": [
    "#Visualization of Correlations\n",
    "fig = plt.figure(figsize=(10,5))\n",
    "sns.heatmap(dataset.corr(),annot=True,cmap=\"Blues\")"
   ]
  },
  {
   "cell_type": "code",
   "execution_count": 31,
   "id": "635dfe68",
   "metadata": {},
   "outputs": [
    {
     "data": {
      "application/vnd.jupyter.widget-view+json": {
       "model_id": "4552967599564247876b98ec5ebe10ac",
       "version_major": 2,
       "version_minor": 0
      },
      "text/plain": [
       "Summarize dataset:   0%|          | 0/5 [00:00<?, ?it/s]"
      ]
     },
     "metadata": {},
     "output_type": "display_data"
    },
    {
     "data": {
      "application/vnd.jupyter.widget-view+json": {
       "model_id": "cfe1102a8c554b21b8d155c963e00eef",
       "version_major": 2,
       "version_minor": 0
      },
      "text/plain": [
       "Generate report structure:   0%|          | 0/1 [00:00<?, ?it/s]"
      ]
     },
     "metadata": {},
     "output_type": "display_data"
    },
    {
     "data": {
      "application/vnd.jupyter.widget-view+json": {
       "model_id": "cdcd12a7c2724eb7ae0d5487c4a660be",
       "version_major": 2,
       "version_minor": 0
      },
      "text/plain": [
       "Render HTML:   0%|          | 0/1 [00:00<?, ?it/s]"
      ]
     },
     "metadata": {},
     "output_type": "display_data"
    },
    {
     "data": {
      "application/vnd.jupyter.widget-view+json": {
       "model_id": "969b43e3a2fe4b58896d9325b529fa16",
       "version_major": 2,
       "version_minor": 0
      },
      "text/plain": [
       "Export report to file:   0%|          | 0/1 [00:00<?, ?it/s]"
      ]
     },
     "metadata": {},
     "output_type": "display_data"
    },
    {
     "data": {
      "text/html": [
       "\n",
       "        <iframe\n",
       "            width=\"900\"\n",
       "            height=\"350\"\n",
       "            src=\"FinalProject.html\"\n",
       "            frameborder=\"0\"\n",
       "            allowfullscreen\n",
       "            \n",
       "        ></iframe>\n",
       "        "
      ],
      "text/plain": [
       "<IPython.lib.display.IFrame at 0x1f4a639a490>"
      ]
     },
     "metadata": {},
     "output_type": "display_data"
    }
   ],
   "source": [
    "#Create Profile Report\n",
    " \n",
    "#Importing package\n",
    "import pandas_profiling as pp\n",
    "from IPython.display import IFrame\n",
    " \n",
    "# Profile Report\n",
    "DiabetesReport = pp.ProfileReport(dataset)\n",
    "DiabetesReport.to_file('FinalProject.html')\n",
    "display(IFrame('FinalProject.html', width=900, height=350))"
   ]
  },
  {
   "cell_type": "code",
   "execution_count": 65,
   "id": "079df21b",
   "metadata": {},
   "outputs": [],
   "source": [
    "#Create x and y variables\n",
    "x = dataset.drop('Channel', axis=1).to_numpy()\n",
    "Y = dataset['Channel'].to_numpy()\n",
    "\n",
    "#Create Train and Test Datasets\n",
    "from sklearn.model_selection import train_test_split\n",
    "x_train,x_test,y_train,y_test = train_test_split(x,Y,test_size = 0.2,stratify=Y,random_state = 100)\n",
    "\n",
    "#Scale the Data\n",
    "from sklearn.preprocessing import StandardScaler\n",
    "sc = StandardScaler()\n",
    "x_train2 = sc.fit_transform(x_train)\n",
    "x_test2 = sc.transform(x_test)\n",
    "\n",
    "#Models\n",
    "from sklearn.ensemble import RandomForestClassifier\n",
    "from sklearn.linear_model import LogisticRegression"
   ]
  },
  {
   "cell_type": "code",
   "execution_count": 66,
   "id": "107f36b1",
   "metadata": {},
   "outputs": [
    {
     "name": "stdout",
     "output_type": "stream",
     "text": [
      "\n",
      "Key Features: Index(['Milk', 'Grocery', 'Detergents_Paper'], dtype='object')\n"
     ]
    }
   ],
   "source": [
    "#Feature Selection using SelectFromModel\n",
    "from sklearn.feature_selection import SelectFromModel\n",
    "clf = LogisticRegression(solver='lbfgs',class_weight='balanced', max_iter=1000, random_state=100)\n",
    "clf.fit(x_train2,y_train)\n",
    "model = SelectFromModel(clf, prefit=True)\n",
    "feature_idx = model.get_support()\n",
    "feature_names = dataset.drop('Channel',axis=1).columns[feature_idx]\n",
    "print('\\nKey Features:',feature_names)"
   ]
  },
  {
   "cell_type": "code",
   "execution_count": 67,
   "id": "acddda98",
   "metadata": {},
   "outputs": [],
   "source": [
    "#Prepare for Models for Comparison\n",
    "\n",
    "#Create x and y variables\n",
    "x2 = dataset[feature_names].to_numpy()\n",
    "Y2 = dataset['Channel'].to_numpy()\n",
    "\n",
    "#Create Train and Test Datasets (New Dataset)\n",
    "from sklearn.model_selection import train_test_split\n",
    "x_train2,x_test2,y_train2,y_test2 = train_test_split(x2,Y2,test_size = 0.2,stratify=Y2,random_state = 100)\n",
    "\n",
    "#Fix the imbalanced Classes\n",
    "from imblearn.over_sampling import SMOTE\n",
    "smt=SMOTE(random_state=100)\n",
    "x_train_smt,y_train_smt = smt.fit_resample(x_train2,y_train2)\n"
   ]
  },
  {
   "cell_type": "code",
   "execution_count": 68,
   "id": "ff92fc70",
   "metadata": {},
   "outputs": [
    {
     "name": "stdout",
     "output_type": "stream",
     "text": [
      "Train Data - Class Split\n",
      "Class 1 - 189\n",
      "Class 2 - 189\n"
     ]
    }
   ],
   "source": [
    "#Class Balance - Test Data\n",
    "print('Train Data - Class Split')\n",
    "num_ones = (y_train_smt == 1).sum()\n",
    "num_twos = (y_train_smt == 2).sum()\n",
    "print('Class 1 -',  num_ones)\n",
    "print('Class 2 -',  num_twos)"
   ]
  },
  {
   "cell_type": "code",
   "execution_count": 69,
   "id": "da46c36f",
   "metadata": {},
   "outputs": [],
   "source": [
    "#Construct some pipelines \n",
    "from sklearn.pipeline import Pipeline\n",
    "from sklearn.preprocessing import StandardScaler\n",
    "\n",
    "#Create Pipeline\n",
    "\n",
    "pipeline =[]\n",
    "\n",
    "pipe_rdf = Pipeline([('scl', StandardScaler()),\n",
    "                    ('clf', RandomForestClassifier(n_estimators=100,random_state=100))])\n",
    "pipeline.insert(0,pipe_rdf)\n",
    "\n",
    "pipe_lr = Pipeline([('scl', StandardScaler()),\n",
    "                    ('clf', LogisticRegression(solver='lbfgs',class_weight='balanced', max_iter=1000, random_state=100))])\n",
    "pipeline.insert(1,pipe_lr)\n",
    "\n",
    "# Set grid search params \n",
    "\n",
    "modelpara =[]\n",
    "\n",
    "param_gridrdf = {\n",
    "            'clf__n_estimators': [100,150,200],\n",
    "            'clf__max_features': [ 'log2', 'sqrt'],\n",
    "            'clf__bootstrap': [True, False]}\n",
    "modelpara.insert(0,param_gridrdf)\n",
    "\n",
    "param_gridlogreg = {'clf__C': [0.01, 0.1, 1, 10, 100], \n",
    "                    'clf__penalty': ['l2']}\n",
    "modelpara.insert(1,param_gridlogreg)"
   ]
  },
  {
   "cell_type": "code",
   "execution_count": 70,
   "id": "249519f8",
   "metadata": {},
   "outputs": [],
   "source": [
    "#Define Gridsearch Function\n",
    "\n",
    "from sklearn.model_selection import GridSearchCV\n",
    "from sklearn.metrics import classification_report, confusion_matrix\n",
    "from sklearn.model_selection import RepeatedKFold\n",
    "from sklearn.model_selection import cross_val_score\n",
    "\n",
    "def Gridsearch_cv(model, params):\n",
    "    \n",
    "    #Cross-validation Function\n",
    "    cv2=RepeatedKFold(n_splits=10, n_repeats=5, random_state=100)\n",
    "        \n",
    "    #GridSearch CV\n",
    "    gs_clf = GridSearchCV(model, params, cv=cv2,scoring='recall_weighted')\n",
    "    gs_clf = gs_clf.fit(x_train_smt, y_train_smt)\n",
    "    model = gs_clf.best_estimator_\n",
    "    \n",
    "    # Use best model and test data for final evaluation\n",
    "    y_pred = model.predict(x_test2)\n",
    "\n",
    "    #Identify Best Parameters to Optimize the Model\n",
    "    bestpara=str(gs_clf.best_params_)\n",
    "    \n",
    "    #Output Validation Statistics\n",
    "    target_names=['Outcome 1','Outcome 2']\n",
    "    print('\\nOptimized Model')\n",
    "    print('\\nModel Name:',str(pipeline.named_steps['clf']))\n",
    "    print('\\nBest Parameters:',bestpara)\n",
    "    print('\\n', confusion_matrix(y_test2,y_pred))  \n",
    "    print('\\n',classification_report(y_test2,y_pred,target_names=target_names))     "
   ]
  },
  {
   "cell_type": "code",
   "execution_count": 71,
   "id": "8c868ca2",
   "metadata": {},
   "outputs": [
    {
     "name": "stdout",
     "output_type": "stream",
     "text": [
      "\n",
      "Optimized Model\n",
      "\n",
      "Model Name: RandomForestClassifier(random_state=100)\n",
      "\n",
      "Best Parameters: {'clf__bootstrap': True, 'clf__max_features': 'log2', 'clf__n_estimators': 100}\n",
      "\n",
      " [[43  5]\n",
      " [ 2 17]]\n",
      "\n",
      "               precision    recall  f1-score   support\n",
      "\n",
      "   Outcome 1       0.96      0.90      0.92        48\n",
      "   Outcome 2       0.77      0.89      0.83        19\n",
      "\n",
      "    accuracy                           0.90        67\n",
      "   macro avg       0.86      0.90      0.88        67\n",
      "weighted avg       0.90      0.90      0.90        67\n",
      "\n",
      "\n",
      "Optimized Model\n",
      "\n",
      "Model Name: LogisticRegression(class_weight='balanced', max_iter=1000, random_state=100)\n",
      "\n",
      "Best Parameters: {'clf__C': 100, 'clf__penalty': 'l2'}\n",
      "\n",
      " [[43  5]\n",
      " [ 2 17]]\n",
      "\n",
      "               precision    recall  f1-score   support\n",
      "\n",
      "   Outcome 1       0.96      0.90      0.92        48\n",
      "   Outcome 2       0.77      0.89      0.83        19\n",
      "\n",
      "    accuracy                           0.90        67\n",
      "   macro avg       0.86      0.90      0.88        67\n",
      "weighted avg       0.90      0.90      0.90        67\n",
      "\n"
     ]
    }
   ],
   "source": [
    "#Run Models\n",
    "\n",
    "for pipeline, modelpara in zip(pipeline,modelpara):\n",
    "    Gridsearch_cv(pipeline,modelpara)"
   ]
  },
  {
   "cell_type": "code",
   "execution_count": 72,
   "id": "3d70e553",
   "metadata": {},
   "outputs": [],
   "source": [
    "#Define Plot for learning curve\n",
    "\n",
    "from sklearn.model_selection import learning_curve\n",
    "\n",
    "def plot_learning_curves(model):\n",
    "    train_sizes, train_scores, test_scores = learning_curve(estimator=model,\n",
    "                                                            X=x_train_smt, \n",
    "                                                            y=y_train_smt,\n",
    "                                                            train_sizes= np.linspace(0.1, 1.0, 10),\n",
    "                                                            cv=10,\n",
    "                                                            scoring='accuracy',random_state=100)\n",
    "    train_mean = np.mean(train_scores, axis=1)\n",
    "    train_std = np.std(train_scores, axis=1)\n",
    "    test_mean = np.mean(test_scores, axis=1)\n",
    "    test_std = np.std(test_scores, axis=1)\n",
    "    \n",
    "    plt.plot(train_sizes, train_mean,color='blue', marker='o', \n",
    "             markersize=5, label='training accuracy')\n",
    "    plt.fill_between(train_sizes, train_mean + train_std, train_mean - train_std,\n",
    "                     alpha=0.15, color='blue')\n",
    "\n",
    "    plt.plot(train_sizes, test_mean, color='green', linestyle='--', marker='s', markersize=5,\n",
    "             label='validation accuracy')\n",
    "    plt.fill_between(train_sizes, test_mean + test_std, test_mean - test_std,\n",
    "                     alpha=0.15, color='green')\n",
    "    plt.grid(True)\n",
    "    plt.xlabel('Number of training samples')\n",
    "    plt.ylabel('Accuracy')\n",
    "    plt.legend(loc='best')\n",
    "    plt.ylim([0.8, 1.01])\n",
    "    plt.show()"
   ]
  },
  {
   "cell_type": "code",
   "execution_count": 73,
   "id": "e2bede30",
   "metadata": {},
   "outputs": [
    {
     "name": "stdout",
     "output_type": "stream",
     "text": [
      "Random Forest - Learning Curve\n"
     ]
    },
    {
     "data": {
      "image/png": "[encoded data removed]",
      "text/plain": [
       "<Figure size 432x288 with 1 Axes>"
      ]
     },
     "metadata": {
      "needs_background": "light"
     },
     "output_type": "display_data"
    },
    {
     "name": "stdout",
     "output_type": "stream",
     "text": [
      "\n",
      "Logistic Regression - Learning Curve\n"
     ]
    },
    {
     "data": {
      "image/png": "[encoded data removed]",
      "text/plain": [
       "<Figure size 432x288 with 1 Axes>"
      ]
     },
     "metadata": {
      "needs_background": "light"
     },
     "output_type": "display_data"
    }
   ],
   "source": [
    "#Plot Learning Curve\n",
    "print('Random Forest - Learning Curve')\n",
    "plot_learning_curves(pipe_rdf)\n",
    "print('\\nLogistic Regression - Learning Curve')\n",
    "plot_learning_curves(pipe_lr)"
   ]
  },
  {
   "cell_type": "code",
   "execution_count": 74,
   "id": "20931990",
   "metadata": {},
   "outputs": [],
   "source": [
    "#Prepare Models \n",
    "from sklearn import model_selection\n",
    "from sklearn.ensemble import BaggingClassifier\n",
    "from sklearn.ensemble import AdaBoostClassifier\n",
    "from sklearn.ensemble import GradientBoostingClassifier\n",
    "from sklearn.metrics import precision_score, recall_score"
   ]
  },
  {
   "cell_type": "code",
   "execution_count": 75,
   "id": "365093d8",
   "metadata": {},
   "outputs": [
    {
     "name": "stdout",
     "output_type": "stream",
     "text": [
      "\n",
      "Estimator: Bagging Classifier\n",
      "\n",
      " [[43  5]\n",
      " [ 6 13]]\n",
      "              precision    recall  f1-score   support\n",
      "\n",
      "           1       0.88      0.90      0.89        48\n",
      "           2       0.72      0.68      0.70        19\n",
      "\n",
      "    accuracy                           0.84        67\n",
      "   macro avg       0.80      0.79      0.79        67\n",
      "weighted avg       0.83      0.84      0.83        67\n",
      "\n",
      "\n",
      "Estimator: AdaBoost\n",
      "\n",
      " [[44  4]\n",
      " [ 2 17]]\n",
      "              precision    recall  f1-score   support\n",
      "\n",
      "           1       0.96      0.92      0.94        48\n",
      "           2       0.81      0.89      0.85        19\n",
      "\n",
      "    accuracy                           0.91        67\n",
      "   macro avg       0.88      0.91      0.89        67\n",
      "weighted avg       0.91      0.91      0.91        67\n",
      "\n",
      "\n",
      "Estimator: GBC\n",
      "\n",
      " [[43  5]\n",
      " [ 1 18]]\n",
      "              precision    recall  f1-score   support\n",
      "\n",
      "           1       0.98      0.90      0.93        48\n",
      "           2       0.78      0.95      0.86        19\n",
      "\n",
      "    accuracy                           0.91        67\n",
      "   macro avg       0.88      0.92      0.90        67\n",
      "weighted avg       0.92      0.91      0.91        67\n",
      "\n"
     ]
    }
   ],
   "source": [
    "#Script for Models\n",
    "\n",
    "from sklearn.metrics import classification_report, confusion_matrix  \n",
    "\n",
    "models2 ={'Bagging Classifier':BaggingClassifier(random_state=100),\n",
    "          'AdaBoost':AdaBoostClassifier(random_state=100),\n",
    "          'GBC':GradientBoostingClassifier(random_state=100)}\n",
    "    \n",
    "for name, model in models2.items():\n",
    "    model.fit(x_train_smt,y_train_smt)\n",
    "    predict = model.predict(x_test2)\n",
    "    print('\\nEstimator: {}'.format(name)) \n",
    "    print('\\n',confusion_matrix(y_test,predict))  \n",
    "    print(classification_report(y_test,predict))  "
   ]
  },
  {
   "cell_type": "code",
   "execution_count": 76,
   "id": "3d17c760",
   "metadata": {},
   "outputs": [
    {
     "name": "stdout",
     "output_type": "stream",
     "text": [
      "\n",
      "Voting Model\n",
      "RandomForestClassifier 0.9\n",
      "GradientBoostingClassifier 0.89\n",
      "VotingClassifier 0.9\n"
     ]
    }
   ],
   "source": [
    "#Create Voting Model - Sklearn\n",
    "from sklearn.ensemble import VotingClassifier\n",
    "from sklearn.model_selection import RepeatedKFold\n",
    "from sklearn.model_selection import cross_validate\n",
    "\n",
    "x_2 = sc.transform(x)\n",
    "\n",
    "estimators = []\n",
    "\n",
    "model1 = RandomForestClassifier(bootstrap=True, max_features='log2', n_estimators=100,random_state=100)\n",
    "estimators.append(('Random Forest', model1))\n",
    "\n",
    "model2=GradientBoostingClassifier(random_state=100)\n",
    "estimators.append(('GBC', model2))\n",
    "\n",
    "voting_clf=VotingClassifier(estimators,voting='soft')\n",
    "\n",
    "scoring = {'acc': 'accuracy',\n",
    "           'prec_macro': 'precision_macro',\n",
    "           'rec_macro': 'recall_macro'}\n",
    "print('\\nVoting Model')\n",
    "for clf in (model1,model2,voting_clf):\n",
    "    rkfcv= clf.fit(x_train_smt,y_train_smt)\n",
    "    ens_rkf1 = RepeatedKFold(n_splits=10, n_repeats=5, random_state=100)\n",
    "    rKFcv = cross_validate(rkfcv, x_2, Y, scoring=scoring, cv=ens_rkf1)\n",
    "    print(clf.__class__.__name__,round(rKFcv['test_rec_macro'].mean(),2))   "
   ]
  },
  {
   "cell_type": "code",
   "execution_count": null,
   "id": "64000d97",
   "metadata": {},
   "outputs": [],
   "source": []
  }
 ],
 "metadata": {
  "kernelspec": {
   "display_name": "Python 3 (ipykernel)",
   "language": "python",
   "name": "python3"
  },
  "language_info": {
   "codemirror_mode": {
    "name": "ipython",
    "version": 3
   },
   "file_extension": ".py",
   "mimetype": "text/x-python",
   "name": "python",
   "nbconvert_exporter": "python",
   "pygments_lexer": "ipython3",
   "version": "3.9.12"
  }
 },
 "nbformat": 4,
 "nbformat_minor": 5
}
